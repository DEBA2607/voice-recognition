{
 "cells": [
  {
   "cell_type": "code",
   "execution_count": null,
   "metadata": {},
   "outputs": [],
   "source": [
    "import os\n",
    "import speech_recognition as sr\n",
    "engine = pyttsx3.init('sapi5')\n",
    "voices = engine.getProperty('voices')\n",
    "engine.setProperty('voice', voices[1].id)\n",
    "\n",
    "def speak(audio):\n",
    "    engine.say(audio)\n",
    "    engine.runAndWait()\n",
    "\n",
    "def takeCommand():\n",
    "    \n",
    "    r = sr.Recognizer()\n",
    "    \n",
    "    with sr.Microphone() as source:\n",
    "        \n",
    "        print(\"Listening...\")\n",
    "        r.pause_threshold = 1\n",
    "        audio = r.listen(source)\n",
    "\n",
    "    try:\n",
    "        print(\"Recognizing...\")\n",
    "        query = r.recognize_google(audio, language ='en-in')\n",
    "        print(f\"User said: {query}\\n\")\n",
    "\n",
    "    except Exception as e:\n",
    "        print(e)\n",
    "        print(\"Unable to Recognize your voice.\")\n",
    "        return \"None\"\n",
    "    \n",
    "    return query\n",
    "\n",
    "\n",
    "if __name__ == '__main__':\n",
    "    clear = lambda: os.system('cls')\n",
    "    clear()\n",
    "    while True:\n",
    "        \n",
    "        query = takeCommand().lower()\n",
    "        \n",
    "    \n",
    "        if 'open youtube' in query:\n",
    "            speak(\"Here you go to Youtube\\n\")\n",
    "            webbrowser.open(\"youtube.com\")\n",
    "\n",
    "        elif 'open google' in query:\n",
    "            speak(\"Here you go to Google\\n\")\n",
    "            webbrowser.open(\"google.com\")\n"
   ]
  }
 ],
 "metadata": {
  "kernelspec": {
   "display_name": "Python 3.10.5 64-bit",
   "language": "python",
   "name": "python3"
  },
  "language_info": {
   "name": "python",
   "version": "3.10.5"
  },
  "orig_nbformat": 4,
  "vscode": {
   "interpreter": {
    "hash": "afb734500600fd355917ca529030176ea0ca205570884b88f2f6f7d791fd3fbe"
   }
  }
 },
 "nbformat": 4,
 "nbformat_minor": 2
}
